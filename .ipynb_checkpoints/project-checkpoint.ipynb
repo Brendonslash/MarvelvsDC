{
 "cells": [
  {
   "cell_type": "markdown",
   "metadata": {},
   "source": [
    "# DC vs Marvel"
   ]
  },
  {
   "cell_type": "markdown",
   "metadata": {},
   "source": [
    "## Participants"
   ]
  },
  {
   "cell_type": "markdown",
   "metadata": {},
   "source": [
    "Team Members:\n",
    "* Atif Ahmed (aa3931)\n",
    "* Dheeraj Reddy Kalmekolan (drk2143)"
   ]
  },
  {
   "cell_type": "markdown",
   "metadata": {},
   "source": [
    "### Abstract"
   ]
  },
  {
   "cell_type": "markdown",
   "metadata": {},
   "source": [
    "The ultimate aim of this project is to classify different superhero merchandise into either DC or Marvel by training only on images of superhero characters. \n",
    "\n",
    "We plan to use Convolutional Neural networks for this task but will be exploring other types of neural networks also whichever is a better fit for the task. We also plan to extend this idea to identify the exact superhero present in an image if time permits.\n",
    "\n",
    "Our work is inspired from a project done by Stanford students for classifying cartoon characters [1]. Another inspiration is this source trying to identify superhero characters from their lego images [2]. "
   ]
  },
  {
   "cell_type": "markdown",
   "metadata": {},
   "source": [
    "### Problem definition"
   ]
  },
  {
   "cell_type": "markdown",
   "metadata": {},
   "source": [
    "Classifying the products/merchandise into the superhero universe they belong to.\n",
    "\n",
    "The problem seems easy at first but becomes more difficult because of the different orientations of the characters in which they are portrayed on the merchandise.Another problem is that there can be different portrayals of the same character, for example, a character being portrayed differently in comics version and movie version. Other challenges include similarity of certain characters like Superman and Captain America who both have red and blue costume. \n",
    "\n",
    "We believe that using Convolutional neural networks, we’ll be able to take advantage of certain identifying features of the superheroes and leverage this information for classification with high accuracy."
   ]
  },
  {
   "cell_type": "markdown",
   "metadata": {},
   "source": [
    "### Dataset"
   ]
  },
  {
   "cell_type": "markdown",
   "metadata": {},
   "source": [
    "Dataset will be an image with it’s tag whether it is a Marvel character or DC. \n",
    "\n",
    "We have to artificially curate a dataset as we don’t readily have a dataset available. \n",
    "\n",
    "We would like to get the images from websites by scraping using queries of the DC and Marvel characters and then remove the false positives manually.We then label them DC or Marvel by their origin. \n",
    "\n",
    "Additionally we can try to work on action figure and merchandize images if time permits.\n",
    "\n",
    "We also plan to utilize the lego images of superheroes and see if we can extend our model with these images. These images are used by [2] and present in [3]. "
   ]
  },
  {
   "cell_type": "markdown",
   "metadata": {},
   "source": [
    "### Frameworks"
   ]
  },
  {
   "cell_type": "markdown",
   "metadata": {},
   "source": [
    "We are planning on using Tensor Flow  and additionally use wrappers like Keras "
   ]
  },
  {
   "cell_type": "markdown",
   "metadata": {},
   "source": [
    "### Network Architecture"
   ]
  },
  {
   "cell_type": "markdown",
   "metadata": {},
   "source": [
    "We plan to use a convolutional neural network with 3 convolutional layers. Each layer will have shared weights with ReLU activation and max-pooling. The hyperparameters will be tuned as we go ahead with the project. We might make use of transfer learning if convolutional nets alone are not effective enough."
   ]
  },
  {
   "cell_type": "markdown",
   "metadata": {},
   "source": [
    "### Division of labor"
   ]
  },
  {
   "cell_type": "markdown",
   "metadata": {},
   "source": [
    "We plan to have exact equal division of work in each of the stages of project. We both will be curating the dataset and labeling it. For the code development part, we’ll use a version control system to simultaneously develop the network. We’ll then test the network independently and come up with techniques to improve the performance."
   ]
  },
  {
   "cell_type": "markdown",
   "metadata": {},
   "source": [
    "###### References\n",
    "\n",
    "* [1] http://cs231n.stanford.edu/reports2016/265_Report.pdf\n",
    "\n",
    "     Archived URL: http://webcache.googleusercontent.com/search?q=cache:http://cs231n.stanford.edu/reports2016/265_Report.pdf\n",
    "\n",
    "\n",
    "* [2] https://mpatacchiola.github.io/blog/2016/11/12/the-simplest-classifier-histogram-intersection.html\n",
    "\n",
    "\n",
    "* [3] https://www.flickr.com/photos/126293860@N05/\n"
   ]
  },
  {
   "cell_type": "code",
   "execution_count": null,
   "metadata": {
    "collapsed": true
   },
   "outputs": [],
   "source": []
  }
 ],
 "metadata": {
  "kernelspec": {
   "display_name": "Python 2",
   "language": "python",
   "name": "python2"
  },
  "language_info": {
   "codemirror_mode": {
    "name": "ipython",
    "version": 2
   },
   "file_extension": ".py",
   "mimetype": "text/x-python",
   "name": "python",
   "nbconvert_exporter": "python",
   "pygments_lexer": "ipython2",
   "version": "2.7.6"
  }
 },
 "nbformat": 4,
 "nbformat_minor": 0
}
